{
 "cells": [
  {
   "cell_type": "code",
   "execution_count": 1,
   "id": "e51f422b",
   "metadata": {
    "scrolled": true
   },
   "outputs": [
    {
     "name": "stdout",
     "output_type": "stream",
     "text": [
      "3.11.3 | packaged by Anaconda, Inc. | (main, Apr 19 2023, 23:46:34) [MSC v.1916 64 bit (AMD64)]\n"
     ]
    }
   ],
   "source": [
    "import sys\n",
    "print(sys.version)"
   ]
  },
  {
   "cell_type": "code",
   "execution_count": 3,
   "id": "573196e2",
   "metadata": {},
   "outputs": [],
   "source": [
    "a=2\n",
    "b=4"
   ]
  },
  {
   "cell_type": "code",
   "execution_count": 5,
   "id": "c703cf77",
   "metadata": {},
   "outputs": [
    {
     "name": "stdout",
     "output_type": "stream",
     "text": [
      "3.3333333333333335\n"
     ]
    }
   ],
   "source": [
    "ans = (a + 2*b)/3\n",
    "print(ans)"
   ]
  },
  {
   "cell_type": "code",
   "execution_count": 8,
   "id": "804c3dc3",
   "metadata": {},
   "outputs": [
    {
     "name": "stdout",
     "output_type": "stream",
     "text": [
      "[30, 'F', 6.75]\n"
     ]
    }
   ],
   "source": [
    "verah= [30, \"F\", 6.75]\n",
    "print(verah)"
   ]
  },
  {
   "cell_type": "code",
   "execution_count": 9,
   "id": "d1b5c51a",
   "metadata": {},
   "outputs": [
    {
     "data": {
      "text/plain": [
       "'Sunny'"
      ]
     },
     "execution_count": 9,
     "metadata": {},
     "output_type": "execute_result"
    }
   ],
   "source": [
    "\"Sunny Ade\"[:5]\n"
   ]
  },
  {
   "cell_type": "code",
   "execution_count": 12,
   "id": "472f2dd0",
   "metadata": {},
   "outputs": [
    {
     "data": {
      "text/plain": [
       "'Mercy Ch'"
      ]
     },
     "execution_count": 12,
     "metadata": {},
     "output_type": "execute_result"
    }
   ],
   "source": [
    "\"Mercy Chinwo\" [:8]\n",
    "\n"
   ]
  },
  {
   "cell_type": "code",
   "execution_count": 14,
   "id": "03af27eb",
   "metadata": {},
   "outputs": [
    {
     "name": "stdout",
     "output_type": "stream",
     "text": [
      "My name is verah, I am 30years old and my height is6.75 F\n"
     ]
    }
   ],
   "source": [
    "verah = [30, \"F\", 6.75]\n",
    "print(\"My name is verah, I am {}years old and my height is{} F\". format(verah[0], verah[2]))"
   ]
  },
  {
   "cell_type": "code",
   "execution_count": 15,
   "id": "f3559765",
   "metadata": {},
   "outputs": [
    {
     "data": {
      "text/plain": [
       "'ad'"
      ]
     },
     "execution_count": 15,
     "metadata": {},
     "output_type": "execute_result"
    }
   ],
   "source": [
    "\"abcdef\"[::3]\n"
   ]
  },
  {
   "cell_type": "code",
   "execution_count": 17,
   "id": "d60476fe",
   "metadata": {},
   "outputs": [
    {
     "data": {
      "text/plain": [
       "'verahverahverah'"
      ]
     },
     "execution_count": 17,
     "metadata": {},
     "output_type": "execute_result"
    }
   ],
   "source": [
    "\"verah\"*3\n"
   ]
  },
  {
   "cell_type": "code",
   "execution_count": null,
   "id": "7483eab7",
   "metadata": {},
   "outputs": [],
   "source": []
  }
 ],
 "metadata": {
  "kernelspec": {
   "display_name": "Python 3 (ipykernel)",
   "language": "python",
   "name": "python3"
  },
  "language_info": {
   "codemirror_mode": {
    "name": "ipython",
    "version": 3
   },
   "file_extension": ".py",
   "mimetype": "text/x-python",
   "name": "python",
   "nbconvert_exporter": "python",
   "pygments_lexer": "ipython3",
   "version": "3.11.3"
  }
 },
 "nbformat": 4,
 "nbformat_minor": 5
}
