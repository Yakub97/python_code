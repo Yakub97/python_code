{
 "cells": [
  {
   "cell_type": "raw",
   "id": "13a83e54",
   "metadata": {},
   "source": [
    "def greet():\n",
    "    name = input(\"What is your name? \")\n",
    "    print(\"Assalamu alikum wa rahmatullahi wa barakatuhu Ya\", name)"
   ]
  },
  {
   "cell_type": "code",
   "execution_count": 6,
   "id": "f7e6d952",
   "metadata": {},
   "outputs": [
    {
     "name": "stdout",
     "output_type": "stream",
     "text": [
      "What is your name?Abba\n",
      "Assalamu alikum wa rahmatullahi wa barakatuhu ya Abba\n"
     ]
    }
   ],
   "source": [
    "greet()"
   ]
  },
  {
   "cell_type": "code",
   "execution_count": null,
   "id": "ba1b4b3b",
   "metadata": {},
   "outputs": [],
   "source": []
  }
 ],
 "metadata": {
  "kernelspec": {
   "display_name": "Python 3 (ipykernel)",
   "language": "python",
   "name": "python3"
  },
  "language_info": {
   "codemirror_mode": {
    "name": "ipython",
    "version": 3
   },
   "file_extension": ".py",
   "mimetype": "text/x-python",
   "name": "python",
   "nbconvert_exporter": "python",
   "pygments_lexer": "ipython3",
   "version": "3.11.3"
  }
 },
 "nbformat": 4,
 "nbformat_minor": 5
}
