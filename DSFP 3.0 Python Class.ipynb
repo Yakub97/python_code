{
 "cells": [
  {
   "cell_type": "code",
   "execution_count": 1,
   "id": "595a5705",
   "metadata": {
    "scrolled": true
   },
   "outputs": [
    {
     "name": "stdout",
     "output_type": "stream",
     "text": [
      "3.11.3 | packaged by Anaconda, Inc. | (main, Apr 19 2023, 23:46:34) [MSC v.1916 64 bit (AMD64)]\n"
     ]
    }
   ],
   "source": [
    "import sys\n",
    "print(sys.version)"
   ]
  },
  {
   "cell_type": "code",
   "execution_count": 3,
   "id": "954d5aad",
   "metadata": {},
   "outputs": [],
   "source": [
    "a=2\n",
    "b=4"
   ]
  },
  {
   "cell_type": "code",
   "execution_count": 5,
   "id": "c56cd83f",
   "metadata": {},
   "outputs": [
    {
     "name": "stdout",
     "output_type": "stream",
     "text": [
      "3.3333333333333335\n"
     ]
    }
   ],
   "source": [
    "ans = (a + 2*b)/3\n",
    "print(ans)"
   ]
  },
  {
   "cell_type": "code",
   "execution_count": 9,
   "id": "8e4b05c7",
   "metadata": {},
   "outputs": [
    {
     "name": "stdout",
     "output_type": "stream",
     "text": [
      "[30, 'F', 6.75]\n"
     ]
    }
   ],
   "source": [
    "verah= [30, \"F\", 6.75]\n",
    "print(verah)"
   ]
  },
  {
   "cell_type": "code",
   "execution_count": 9,
   "id": "a0858fad",
   "metadata": {},
   "outputs": [
    {
     "data": {
      "text/plain": [
       "'Sunny'"
      ]
     },
     "execution_count": 9,
     "metadata": {},
     "output_type": "execute_result"
    }
   ],
   "source": [
    "\"Sunny Ade\"[:5]\n"
   ]
  },
  {
   "cell_type": "code",
   "execution_count": 12,
   "id": "42f381ee",
   "metadata": {},
   "outputs": [
    {
     "data": {
      "text/plain": [
       "'Mercy Ch'"
      ]
     },
     "execution_count": 12,
     "metadata": {},
     "output_type": "execute_result"
    }
   ],
   "source": [
    "\"Mercy Chinwo\" [:8]\n",
    "\n"
   ]
  },
  {
   "cell_type": "code",
   "execution_count": 14,
   "id": "7c521ef6",
   "metadata": {},
   "outputs": [
    {
     "name": "stdout",
     "output_type": "stream",
     "text": [
      "My name is verah, I am 30years old and my height is6.75 F\n"
     ]
    }
   ],
   "source": [
    "verah = [30, \"F\", 6.75]\n",
    "print(\"My name is verah, I am {}years old and my height is{} F\". format(verah[0], verah[2]))"
   ]
  },
  {
   "cell_type": "code",
   "execution_count": 15,
   "id": "f244e53b",
   "metadata": {},
   "outputs": [
    {
     "data": {
      "text/plain": [
       "'ad'"
      ]
     },
     "execution_count": 15,
     "metadata": {},
     "output_type": "execute_result"
    }
   ],
   "source": [
    "\"abcdef\"[::3]\n"
   ]
  },
  {
   "cell_type": "code",
   "execution_count": 17,
   "id": "aa8eef38",
   "metadata": {},
   "outputs": [
    {
     "data": {
      "text/plain": [
       "'verahverahverah'"
      ]
     },
     "execution_count": 17,
     "metadata": {},
     "output_type": "execute_result"
    }
   ],
   "source": [
    "\"verah\"*3\n"
   ]
  },
  {
   "cell_type": "code",
   "execution_count": 18,
   "id": "865381aa",
   "metadata": {},
   "outputs": [],
   "source": [
    "def average(a,b):\n",
    "    c=a/b\n",
    "    return c"
   ]
  },
  {
   "cell_type": "code",
   "execution_count": 20,
   "id": "f3c029b2",
   "metadata": {},
   "outputs": [
    {
     "data": {
      "text/plain": [
       "4.25"
      ]
     },
     "execution_count": 20,
     "metadata": {},
     "output_type": "execute_result"
    }
   ],
   "source": [
    "average(34,8)"
   ]
  },
  {
   "cell_type": "code",
   "execution_count": 31,
   "id": "3a362652",
   "metadata": {},
   "outputs": [
    {
     "name": "stdout",
     "output_type": "stream",
     "text": [
      "1\n",
      "2\n",
      "3\n",
      "4\n",
      "5\n",
      "6\n",
      "7\n",
      "8\n",
      "9\n",
      "10\n"
     ]
    }
   ],
   "source": [
    "for i in range(1,11):\n",
    "    print(i)"
   ]
  },
  {
   "cell_type": "code",
   "execution_count": 45,
   "id": "8bfa4b90",
   "metadata": {},
   "outputs": [
    {
     "name": "stdout",
     "output_type": "stream",
     "text": [
      "2\n",
      "4\n",
      "7\n",
      "11\n",
      "16\n",
      "22\n",
      "29\n",
      "37\n",
      "46\n",
      "56\n",
      "67\n",
      "79\n",
      "92\n",
      "106\n",
      "121\n",
      "137\n",
      "154\n",
      "172\n",
      "191\n",
      "211\n",
      "232\n",
      "254\n",
      "277\n",
      "301\n",
      "326\n",
      "352\n",
      "379\n",
      "407\n",
      "436\n",
      "466\n"
     ]
    }
   ],
   "source": [
    "max=30\n",
    "sum=1\n",
    "for i in range(1,max+1):\n",
    "    sum = sum+i\n",
    "    print(sum)"
   ]
  },
  {
   "cell_type": "code",
   "execution_count": 44,
   "id": "2eea574b",
   "metadata": {},
   "outputs": [
    {
     "name": "stdout",
     "output_type": "stream",
     "text": [
      "1\n",
      "2\n",
      "6\n",
      "24\n",
      "120\n",
      "720\n",
      "5040\n",
      "40320\n",
      "362880\n",
      "3628800\n",
      "39916800\n",
      "479001600\n",
      "6227020800\n",
      "87178291200\n",
      "1307674368000\n",
      "20922789888000\n",
      "355687428096000\n",
      "6402373705728000\n",
      "121645100408832000\n",
      "2432902008176640000\n",
      "51090942171709440000\n",
      "1124000727777607680000\n",
      "25852016738884976640000\n",
      "620448401733239439360000\n",
      "15511210043330985984000000\n",
      "403291461126605635584000000\n",
      "10888869450418352160768000000\n",
      "304888344611713860501504000000\n",
      "8841761993739701954543616000000\n",
      "265252859812191058636308480000000\n",
      "8222838654177922817725562880000000\n",
      "263130836933693530167218012160000000\n",
      "8683317618811886495518194401280000000\n",
      "295232799039604140847618609643520000000\n",
      "10333147966386144929666651337523200000000\n",
      "371993326789901217467999448150835200000000\n",
      "13763753091226345046315979581580902400000000\n",
      "523022617466601111760007224100074291200000000\n",
      "20397882081197443358640281739902897356800000000\n",
      "815915283247897734345611269596115894272000000000\n",
      "33452526613163807108170062053440751665152000000000\n",
      "1405006117752879898543142606244511569936384000000000\n",
      "60415263063373835637355132068513997507264512000000000\n",
      "2658271574788448768043625811014615890319638528000000000\n",
      "119622220865480194561963161495657715064383733760000000000\n",
      "5502622159812088949850305428800254892961651752960000000000\n",
      "258623241511168180642964355153611979969197632389120000000000\n",
      "12413915592536072670862289047373375038521486354677760000000000\n",
      "608281864034267560872252163321295376887552831379210240000000000\n",
      "30414093201713378043612608166064768844377641568960512000000000000\n"
     ]
    }
   ],
   "source": [
    "num = 50\n",
    "prod = 1\n",
    "for i in range(1,num+1):\n",
    "    prod = prod*i\n",
    "    print(prod)"
   ]
  },
  {
   "cell_type": "code",
   "execution_count": 5,
   "id": "7ea7c920",
   "metadata": {},
   "outputs": [],
   "source": [
    "tuple = ('Yakub', 25, \"Ali bn Abi Talib\")"
   ]
  },
  {
   "cell_type": "code",
   "execution_count": 6,
   "id": "301c7d3e",
   "metadata": {},
   "outputs": [
    {
     "data": {
      "text/plain": [
       "'Yakub'"
      ]
     },
     "execution_count": 6,
     "metadata": {},
     "output_type": "execute_result"
    }
   ],
   "source": [
    "tuple[0]"
   ]
  },
  {
   "cell_type": "code",
   "execution_count": 10,
   "id": "5a9150c9",
   "metadata": {},
   "outputs": [],
   "source": [
    "verah[2] = 1.5"
   ]
  },
  {
   "cell_type": "code",
   "execution_count": 11,
   "id": "aeb21555",
   "metadata": {},
   "outputs": [
    {
     "data": {
      "text/plain": [
       "[30, 'F', 1.5]"
      ]
     },
     "execution_count": 11,
     "metadata": {},
     "output_type": "execute_result"
    }
   ],
   "source": [
    "verah"
   ]
  },
  {
   "cell_type": "code",
   "execution_count": 12,
   "id": "94ea0ed8",
   "metadata": {},
   "outputs": [
    {
     "data": {
      "text/plain": [
       "3"
      ]
     },
     "execution_count": 12,
     "metadata": {},
     "output_type": "execute_result"
    }
   ],
   "source": [
    "len(tuple)"
   ]
  },
  {
   "cell_type": "code",
   "execution_count": null,
   "id": "fa2724bd",
   "metadata": {},
   "outputs": [],
   "source": []
  }
 ],
 "metadata": {
  "kernelspec": {
   "display_name": "Python 3 (ipykernel)",
   "language": "python",
   "name": "python3"
  },
  "language_info": {
   "codemirror_mode": {
    "name": "ipython",
    "version": 3
   },
   "file_extension": ".py",
   "mimetype": "text/x-python",
   "name": "python",
   "nbconvert_exporter": "python",
   "pygments_lexer": "ipython3",
   "version": "3.11.3"
  }
 },
 "nbformat": 4,
 "nbformat_minor": 5
}
